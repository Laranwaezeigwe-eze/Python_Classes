{
  "nbformat": 4,
  "nbformat_minor": 0,
  "metadata": {
    "colab": {
      "name": "Untitled0.ipynb",
      "provenance": [],
      "collapsed_sections": [],
      "authorship_tag": "ABX9TyNnvf9xNWmw+bi3jlkp2M0z",
      "include_colab_link": true
    },
    "kernelspec": {
      "name": "python3",
      "display_name": "Python 3"
    },
    "language_info": {
      "name": "python"
    }
  },
  "cells": [
    {
      "cell_type": "markdown",
      "metadata": {
        "id": "view-in-github",
        "colab_type": "text"
      },
      "source": [
        "<a href=\"https://colab.research.google.com/github/Laranwaezeigwe-eze/Python_Classes/blob/main/Tensorflow%20model.ipynb\" target=\"_parent\"><img src=\"https://colab.research.google.com/assets/colab-badge.svg\" alt=\"Open In Colab\"/></a>"
      ]
    },
    {
      "cell_type": "code",
      "metadata": {
        "id": "8CIkL6NgilRT"
      },
      "source": [
        "import tensorflow as tf\n",
        "import numpy as np\n",
        "import logging\n",
        "logger = tf.get_logger()\n",
        "logger.setLevel(logging. ERROR)\n"
      ],
      "execution_count": 4,
      "outputs": []
    },
    {
      "cell_type": "code",
      "metadata": {
        "colab": {
          "base_uri": "https://localhost:8080/"
        },
        "id": "1lwAq-zGm1bT",
        "outputId": "f7d31f3c-1d7b-4edc-89ec-ff8951115dbe"
      },
      "source": [
        "celsius_value= np.array([-40, -10,  0,  8, 15, 22,  38], dtype=float)\n",
        "fahrenheit_value= np.array([-40,  14, 32, 46, 59, 72, 100], dtype=float)\n",
        "for index, value in enumerate(celsius_value):\n",
        "  print(\"{} degrees Celsius = {} degrees Fahrenheit\".format(value, fahrenheit_value[index]))"
      ],
      "execution_count": 5,
      "outputs": [
        {
          "output_type": "stream",
          "name": "stdout",
          "text": [
            "-40.0 degrees Celsius = -40.0 degrees Fahrenheit\n",
            "-10.0 degrees Celsius = 14.0 degrees Fahrenheit\n",
            "0.0 degrees Celsius = 32.0 degrees Fahrenheit\n",
            "8.0 degrees Celsius = 46.0 degrees Fahrenheit\n",
            "15.0 degrees Celsius = 59.0 degrees Fahrenheit\n",
            "22.0 degrees Celsius = 72.0 degrees Fahrenheit\n",
            "38.0 degrees Celsius = 100.0 degrees Fahrenheit\n"
          ]
        }
      ]
    },
    {
      "cell_type": "code",
      "metadata": {
        "id": "OsQdi7rEuhk5"
      },
      "source": [
        "layer_0 = tf.keras.layers.Dense(units=1, input_shape=[1])\n",
        "model = tf.keras.Sequential([layer_0])\n",
        "model.compile(loss='mean_squared_error',\n",
        "              optimizer=tf.keras.optimizers.Adam(0.1))\n",
        "\n"
      ],
      "execution_count": 6,
      "outputs": []
    },
    {
      "cell_type": "code",
      "metadata": {
        "colab": {
          "base_uri": "https://localhost:8080/"
        },
        "id": "P-rKZdf_hMZo",
        "outputId": "6d57b172-8c2c-4d9a-bf8b-c745c6c99296"
      },
      "source": [
        "\n",
        "history = model.fit(celsius_value, fahrenheit_value, epochs=500, verbose=False)\n",
        "print(\"Finished training the model\")"
      ],
      "execution_count": 8,
      "outputs": [
        {
          "output_type": "stream",
          "name": "stdout",
          "text": [
            "Finished training the model\n"
          ]
        }
      ]
    },
    {
      "cell_type": "code",
      "metadata": {
        "colab": {
          "base_uri": "https://localhost:8080/",
          "height": 298
        },
        "id": "rcJ7BMrEiAhB",
        "outputId": "ad13fb86-237d-4b3f-f918-5aab0e20efd6"
      },
      "source": [
        "import matplotlib.pyplot as plt\n",
        "plt.xlabel('Epoch Number')\n",
        "plt.ylabel(\"Loss Magnitude\")\n",
        "plt.plot(history.history['loss'])"
      ],
      "execution_count": 9,
      "outputs": [
        {
          "output_type": "execute_result",
          "data": {
            "text/plain": [
              "[<matplotlib.lines.Line2D at 0x7fa590517a10>]"
            ]
          },
          "metadata": {},
          "execution_count": 9
        },
        {
          "output_type": "display_data",
          "data": {
            "image/png": "[encoded data removed]",
            "text/plain": [
              "<Figure size 432x288 with 1 Axes>"
            ]
          },
          "metadata": {
            "needs_background": "light"
          }
        }
      ]
    },
    {
      "cell_type": "code",
      "metadata": {
        "colab": {
          "base_uri": "https://localhost:8080/"
        },
        "id": "a7JtmZGti4ZF",
        "outputId": "d5d2e5c4-1bc3-4508-8967-95f729232125"
      },
      "source": [
        "print(model.predict([38.0]))"
      ],
      "execution_count": 12,
      "outputs": [
        {
          "output_type": "stream",
          "name": "stdout",
          "text": [
            "[[100.25986]]\n"
          ]
        }
      ]
    },
    {
      "cell_type": "code",
      "metadata": {
        "id": "SCeCp7zelA6b"
      },
      "source": [
        "import tensorflow as tf\n",
        "import numpy as np\n",
        "import logging\n",
        "logger = tf.get_logger()\n",
        "logger.setLevel(logging.ERROR)"
      ],
      "execution_count": 13,
      "outputs": []
    },
    {
      "cell_type": "code",
      "metadata": {
        "colab": {
          "base_uri": "https://localhost:8080/"
        },
        "id": "2OS0JgCrlvpk",
        "outputId": "33f484d9-7445-4c9d-b697-cda01a049b7a"
      },
      "source": [
        "def circumference_of_circle(radius):\n",
        "  circumference= 2* 3.142* radius\n",
        "  return circumference\n",
        "print(round(circumference_of_circle(5),2))"
      ],
      "execution_count": 23,
      "outputs": [
        {
          "output_type": "stream",
          "name": "stdout",
          "text": [
            "31.42\n"
          ]
        }
      ]
    },
    {
      "cell_type": "code",
      "metadata": {
        "colab": {
          "base_uri": "https://localhost:8080/"
        },
        "id": "-vzhCpRKmLro",
        "outputId": "02c63046-5996-4ad5-fb20-9a6dfcd20e7d"
      },
      "source": [
        "radius_value = np.array([2,4,6,8,10,12,14,16,7,5,3,9], dtype=float)\n",
        "circumference_value = np.array([12.57,25.13,37.7,50.27,62.83,75.4,87.96,100.53,43.98,31.42,18.85,56.55], dtype =float)\n",
        "for index, value in enumerate(radius_value):\n",
        "  print(\"Radius is {} = Circumference is {}\". format(value, circumference_value[index]))\n"
      ],
      "execution_count": 29,
      "outputs": [
        {
          "output_type": "stream",
          "name": "stdout",
          "text": [
            "Radius is 2.0 = Circumference is 12.57\n",
            "Radius is 4.0 = Circumference is 25.13\n",
            "Radius is 6.0 = Circumference is 37.7\n",
            "Radius is 8.0 = Circumference is 50.27\n",
            "Radius is 10.0 = Circumference is 62.83\n",
            "Radius is 12.0 = Circumference is 75.4\n",
            "Radius is 14.0 = Circumference is 87.96\n",
            "Radius is 16.0 = Circumference is 100.53\n",
            "Radius is 7.0 = Circumference is 43.98\n",
            "Radius is 5.0 = Circumference is 31.42\n",
            "Radius is 3.0 = Circumference is 18.85\n",
            "Radius is 9.0 = Circumference is 56.55\n"
          ]
        }
      ]
    },
    {
      "cell_type": "code",
      "metadata": {
        "id": "t_3Xq_8HxJbH"
      },
      "source": [
        "\n",
        "layer_circle = tf.keras.layers.Dense(units=1, input_shape=[1])\n",
        "model = tf.keras.Sequential([layer_circle])\n",
        "model.compile(loss='mean_squared_error',\n",
        "              optimizer=tf.keras.optimizers.Adam(0.1))"
      ],
      "execution_count": 27,
      "outputs": []
    },
    {
      "cell_type": "code",
      "metadata": {
        "colab": {
          "base_uri": "https://localhost:8080/"
        },
        "id": "84cyef_ExYAr",
        "outputId": "3f06eeba-2113-457c-f7f1-0ae727fde481"
      },
      "source": [
        "history = model.fit(radius_value, circumference_value, epochs=500, verbose=False)\n",
        "print(\"Finished training the model\")"
      ],
      "execution_count": 32,
      "outputs": [
        {
          "output_type": "stream",
          "name": "stdout",
          "text": [
            "Finished training the model\n"
          ]
        }
      ]
    },
    {
      "cell_type": "code",
      "metadata": {
        "colab": {
          "base_uri": "https://localhost:8080/",
          "height": 296
        },
        "id": "Wgjlwl4LzE7t",
        "outputId": "67b568c2-91c6-424c-9e84-a3e13d4cf158"
      },
      "source": [
        "import matplotlib.pyplot as plt\n",
        "plt.xlabel('Epoch Number')\n",
        "plt.ylabel(\"Loss Magnitude\")\n",
        "plt.plot(history.history['loss'])"
      ],
      "execution_count": 33,
      "outputs": [
        {
          "output_type": "execute_result",
          "data": {
            "text/plain": [
              "[<matplotlib.lines.Line2D at 0x7fa591ccfe10>]"
            ]
          },
          "metadata": {},
          "execution_count": 33
        },
        {
          "output_type": "display_data",
          "data": {
            "image/png": "[encoded data removed]",
            "text/plain": [
              "<Figure size 432x288 with 1 Axes>"
            ]
          },
          "metadata": {
            "needs_background": "light"
          }
        }
      ]
    },
    {
      "cell_type": "code",
      "metadata": {
        "colab": {
          "base_uri": "https://localhost:8080/"
        },
        "id": "tVrRMC2czZsL",
        "outputId": "eb2a58cc-6821-4d30-971d-059e9af0ecdb"
      },
      "source": [
        "print(model.predict([25]))\n"
      ],
      "execution_count": 40,
      "outputs": [
        {
          "output_type": "stream",
          "name": "stdout",
          "text": [
            "[[157.07039]]\n"
          ]
        }
      ]
    },
    {
      "cell_type": "code",
      "metadata": {
        "colab": {
          "base_uri": "https://localhost:8080/"
        },
        "id": "NXoXFXF_0V2_",
        "outputId": "59af66ee-c5be-45c3-9b6e-b9da01ae5258"
      },
      "source": [
        "print(\"These are the layer variables: {}\".format(layer_circle.get_weights()))"
      ],
      "execution_count": 41,
      "outputs": [
        {
          "output_type": "stream",
          "name": "stdout",
          "text": [
            "These are the layer variables: [array([[6.282582]], dtype=float32), array([0.00584048], dtype=float32)]\n"
          ]
        }
      ]
    }
  ]
}